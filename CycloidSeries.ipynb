{
 "cells": [
  {
   "cell_type": "code",
   "execution_count": null,
   "metadata": {},
   "outputs": [],
   "source": [
    "# This is a really neat Fourier Series that is equivalent to a cycloid. This is fascinating \n",
    "#  due to the way the change of variables happens for the coefficients in the series. That is, \n",
    "#  a cycloid has no implicitization, only a parametric representation, so a change of \n",
    "#  variables must happen within the Fourier coefficients to obtain this series.\n",
    "#\n",
    "# Author: Luke V.\n",
    "\n",
    "# resolution of sum\n",
    "r = 100\n",
    "\n",
    "x = var('x')\n",
    "t = var('t')\n",
    "\n",
    "# cycloid and first derivative of x\n",
    "fx = t - sin(t)\n",
    "fy = 1 - cos(t)\n",
    "diffx = diff(fx, t)\n",
    "\n",
    "# find the root so we can chage the bounds of our integrals\n",
    "lim = find_root(fx == 2 * pi, 0, 2 * pi)\n",
    "\n",
    "# atrocious fourier series\n",
    "func = 1 / (2 * pi) * (1 / 2 * (numerical_integral(fy * diffx, -lim, lim)[0])\n",
    "                        + sum(\n",
    "                        (numerical_integral(fy * diffx * cos(n * pi * (fx) / lim), -lim, lim)[0]) * cos(n * x / 2)\n",
    "                        for n in xrange(2, r, 2))) # every odd term is zero, skip calculating them\n",
    "\n",
    "# plot the series and the first arch of the cycloid\n",
    "p = plot(func, (x, -4 * pi, 4 * pi), aspect_ratio=1, color='blue')\n",
    "p1 = parametric_plot((fx, fy), (t, 0, 2 * pi), aspect_ratio=1, color='red')\n",
    "\n",
    "# show the series with the first arch of the cycloid drawn on top\n",
    "show(p + p1)"
   ]
  }
 ],
 "metadata": {
  "kernelspec": {
   "display_name": "SageMath 8.0.rc1",
   "language": "",
   "name": "sagemath"
  },
  "language_info": {
   "codemirror_mode": {
    "name": "ipython",
    "version": 2
   },
   "file_extension": ".py",
   "mimetype": "text/x-python",
   "name": "python",
   "nbconvert_exporter": "python",
   "pygments_lexer": "ipython2",
   "version": "2.7.13"
  }
 },
 "nbformat": 4,
 "nbformat_minor": 2
}
